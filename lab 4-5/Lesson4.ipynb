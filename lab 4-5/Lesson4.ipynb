{
 "cells": [
  {
   "cell_type": "markdown",
   "metadata": {
    "slideshow": {
     "slide_type": "slide"
    }
   },
   "source": [
    "# Лабораторные работы\n",
    "\n",
    "**Категорически нельзя использовать циклы ни в каком виде!!! Только функционал Numpy.**"
   ]
  },
  {
   "cell_type": "markdown",
   "metadata": {
    "slideshow": {
     "slide_type": "subslide"
    }
   },
   "source": [
    "### Лабораторная работа 4.1. Выбор случайных элементов массива\n",
    "\n",
    "Есть два набора данных: реальные и синтетические. Допустим, мы хотим обучить некоторую ML модель на смеси реальных и синтетических данных. При этом синтетические данные должны браться с вероятностью P. Важно сохранять порядок входных чисел.\n",
    "Например: Для массивов: [1,2,3,4,5,7,8,9,10] и [-1,-2,-3,-4,-5,-6,-7,-8,-9,-10] и P=0.2  \n",
    "Один из вариантов возвращаемого значения: [1,-2,3,4,-5,6,7,8,9,10]\n",
    "  \n",
    "Массивы реальных и синтетических данных одинаковой длины.\n",
    "  \n",
    "Реализовать скрипт random_select.py  \n",
    "Входные параметры скрипта: пути к двум файлам со списком целых чисел в каждом и вероятность P от 0 до 1. Например python2 random_select.py file_1.txt file_2.txt 0.3\n",
    "    file_1.txt содержит:  \n",
    "    1 2 3 4 5 6 7  \n",
    "    а file_2.txt  \n",
    "    -1 -2 -3 -4 -5 -6 -7  \n",
    "Результат перемешивания массивов вывести на экран.\n",
    "Перемешивание масивов должно происходить двумя различными способами."
   ]
  },
  {
   "cell_type": "markdown",
   "metadata": {
    "slideshow": {
     "slide_type": "subslide"
    }
   },
   "source": [
    "### Лабораторная работа 4.2. Выбор случайных элементов массива\n",
    "\n",
    "Реализовать ЛР 4.1 ещё одним (третьим) способом. Использовать можно только функционал numpy"
   ]
  },
  {
   "cell_type": "code",
   "execution_count": null,
   "metadata": {},
   "outputs": [],
   "source": [
    "print(\"lab 4\")"
   ]
  }
 ],
 "metadata": {
  "celltoolbar": "Slideshow",
  "kernelspec": {
   "display_name": "Python 3 (ipykernel)",
   "language": "python",
   "name": "python3"
  },
  "language_info": {
   "codemirror_mode": {
    "name": "ipython",
    "version": 3
   },
   "file_extension": ".py",
   "mimetype": "text/x-python",
   "name": "python",
   "nbconvert_exporter": "python",
   "pygments_lexer": "ipython3",
   "version": "3.8.19"
  }
 },
 "nbformat": 4,
 "nbformat_minor": 4
}
