{
 "cells": [
  {
   "cell_type": "markdown",
   "metadata": {
    "slideshow": {
     "slide_type": "slide"
    },
    "tags": []
   },
   "source": [
    "# Лабораторная работа 5. Pandas.\n",
    "  \n",
    "Художественный фильм Титаник режиссера Джеймса Кэмерона славен тем, что идёт три часа и фильме кругом вода. В этой связи многие зрители покидают кинозал для посещения уборной.  \n",
    "В некотором недалеком будущем 7D кинотеатр “ДК Академия” запускает показ ремастера фильма в формате 7D GALACTIC HD. И нанимает специалиста по обработке данных и машинному обучению, чтобы он рассчитал нагрузку на туалетные комнаты во время сеанса. Этот специалист вы! В первую очередь вам необходимо отфильтровать и должным образом подготовить данные, которые вам предоставил кинотеатр. За работу!  \n",
    "\n",
    "<img src=\"images/LessonsI/Cinema7D.png\" alt=\"Cinema7D\" height=50% width=50%>"
   ]
  },
  {
   "cell_type": "markdown",
   "metadata": {
    "slideshow": {
     "slide_type": "subslide"
    }
   },
   "source": [
    "## Лабораторная 5.1\n",
    "Данные, которые предоставил кинотеатр находятся в файлах *cinema_sessions.csv* и *titanic_with_labels*  \n",
    "  \n",
    "1. Пол (sex): отфильтровать строки, где пол не указан, преобразовать оставшиеся в число 0/1;  \n",
    "2. Номер ряда в зале (row_number): заполнить вместо NAN максимальным значением ряда;  \n",
    "3. Количество выпитого в литрах (liters_drunk): отфильтровать отрицательные значения и нереально большие значения (выбросы). Вместо них заполнить средним.  "
   ]
  },
  {
   "cell_type": "markdown",
   "metadata": {
    "slideshow": {
     "slide_type": "subslide"
    }
   },
   "source": [
    "## Лабораторная 5.2\n",
    "4. Возраст (age): разделить на 3 группы: дети (до 18 лет), взрослые (18 - 50), пожилые (50+). закодировать в виде трёх столбцов с префиксом age_. Старый столбец с age удалить;\n",
    "5. Напиток (drink): преобразовать в число 0/1 был ли этот напиток хмельным;\n",
    "6. Номер чека (check_number): надо сопоставить со второй таблицей со временем сеанса. И закодировать в виде трёх столбцов, был ли это утренний (morining) сеанс, дневной (day) или вечерний (evening).\n"
   ]
  },
  {
   "cell_type": "code",
   "execution_count": 3,
   "metadata": {},
   "outputs": [
    {
     "name": "stdout",
     "output_type": "stream",
     "text": [
      "Данные обработаны и объединены. Результат сохранен в 'merged_data.csv'.\n"
     ]
    }
   ],
   "source": [
    "import pandas as pd\n",
    "import numpy as np\n",
    "\n",
    "# Загрузка данных\n",
    "titanic_with_labels = pd.read_csv(\"data/titanic_with_labels.csv\", sep=' ')\n",
    "cinema_sessions = pd.read_csv(\"data/cinema_sessions.csv\", sep=' ')\n",
    "\n",
    "# 1. Обработка пола (sex)\n",
    "def process_sex(df):\n",
    "    # Приводим значения пола к одному стандарту: \"м\" -> \"male\", \"ж\" -> \"female\", \"M\" -> \"male\"\n",
    "    df['sex'] = df['sex'].str.lower().map({\n",
    "        'м': 1, 'm': 1, 'ж': 0, 'f': 0\n",
    "    })\n",
    "    \n",
    "    # Удаляем строки, где пол не указан или не удалось сопоставить\n",
    "    df = df[df['sex'].notna()]\n",
    "    \n",
    "    return df\n",
    "\n",
    "titanic_with_labels = process_sex(titanic_with_labels)\n",
    "\n",
    "# 2. Обработка номеров рядов (row_number)\n",
    "def fill_max_row(df):\n",
    "    # Находим максимальный номер ряда\n",
    "    max_row = df['row_number'].max()\n",
    "    \n",
    "    # Заполняем пропущенные значения максимальным номером ряда\n",
    "    df['row_number'] = df['row_number'].fillna(max_row)\n",
    "    \n",
    "    return df\n",
    "\n",
    "titanic_with_labels = fill_max_row(titanic_with_labels)\n",
    "\n",
    "# 3. Обработка количества выпитого в литрах (liters_drunk)\n",
    "def filter_liters(df):\n",
    "    # Удаляем отрицательные значения и выбросы (например, больше 10 литров)\n",
    "    mean_liters = df['liters_drunk'][(df['liters_drunk'] >= 0) & (df['liters_drunk'] <= 10)].mean()\n",
    "    \n",
    "    # Заменяем выбросы и отрицательные значения средним значением\n",
    "    df['liters_drunk'] = np.where((df['liters_drunk'] < 0) | (df['liters_drunk'] > 10), mean_liters, df['liters_drunk'])\n",
    "    \n",
    "    return df\n",
    "\n",
    "titanic_with_labels = filter_liters(titanic_with_labels)\n",
    "\n",
    "# Приводим имена столбцов к нижнему регистру для согласованности\n",
    "titanic_with_labels.columns = titanic_with_labels.columns.str.lower()\n",
    "cinema_sessions.columns = cinema_sessions.columns.str.lower()\n",
    "\n",
    "# 4. Объединение данных по столбцу check_number\n",
    "merged_data = pd.merge(titanic_with_labels, cinema_sessions, on='check_number', how='inner')\n",
    "titanic_with_labels = filter_liters(titanic_with_labels)\n",
    "\n",
    "# 4. Обработка возраста (age)\n",
    "def process_age(df):\n",
    "    # Создаем новые столбцы для группировки по возрасту\n",
    "    df['age_child'] = (df['age'] < 18).astype(int)\n",
    "    df['age_adult'] = ((df['age'] >= 18) & (df['age'] <= 50)).astype(int)\n",
    "    df['age_senior'] = (df['age'] > 50).astype(int)\n",
    "    \n",
    "    # Удаляем старый столбец с возрастом\n",
    "    df.drop(columns=['age'], inplace=True)\n",
    "    \n",
    "    return df\n",
    "\n",
    "titanic_with_labels = process_age(titanic_with_labels)\n",
    "\n",
    "# 5. Обработка напитков (drink)\n",
    "def process_drink(df):\n",
    "    df['is_alcoholic'] = df['drink'].str.lower().map({\n",
    "        'cola': 0,\n",
    "        'fanta': 0,\n",
    "        'beerbeer': 1  # добавьте другие напитки по мере необходимости\n",
    "    })\n",
    "    return df\n",
    "\n",
    "titanic_with_labels = process_drink(titanic_with_labels)\n",
    "\n",
    "# 6. Обработка номера чека (check_number)\n",
    "def process_check_number(df, sessions):\n",
    "    # Преобразуем время сессий в категории\n",
    "    def categorize_time(row):\n",
    "        time = pd.to_datetime(row['session_start']).time()\n",
    "        if time < pd.to_datetime(\"12:00:00\").time():\n",
    "            return 'morning'\n",
    "        elif time < pd.to_datetime(\"18:00:00\").time():\n",
    "            return 'day'\n",
    "        else:\n",
    "            return 'evening'\n",
    "    \n",
    "    sessions['session_category'] = sessions.apply(categorize_time, axis=1)\n",
    "    \n",
    "    # Объединяем данные по check_number и создаем dummy-переменные\n",
    "    merged_sessions = pd.get_dummies(sessions['session_category'], prefix='session', drop_first=True)\n",
    "    df = df.merge(sessions[['check_number']], on='check_number', how='left').join(merged_sessions)\n",
    "    \n",
    "    return df\n",
    "\n",
    "titanic_with_labels = process_check_number(titanic_with_labels, cinema_sessions)\n",
    "\n",
    "# Приводим имена столбцов к нижнему регистру для согласованности\n",
    "titanic_with_labels.columns = titanic_with_labels.columns.str.lower()\n",
    "cinema_sessions.columns = cinema_sessions.columns.str.lower()\n",
    "\n",
    "# 7. Объединение данных по столбцу check_number\n",
    "merged_data = pd.merge(titanic_with_labels, cinema_sessions, on='check_number', how='inner')\n",
    "\n",
    "# Сохраняем объединенные данные в CSV\n",
    "merged_data.to_csv('merged_data.csv', index=False)\n",
    "\n",
    "print(\"Данные обработаны и объединены. Результат сохранен в 'merged_data.csv'.\")\n"
   ]
  }
 ],
 "metadata": {
  "celltoolbar": "Slideshow",
  "kernelspec": {
   "display_name": "Python 3 (ipykernel)",
   "language": "python",
   "name": "python3"
  },
  "language_info": {
   "codemirror_mode": {
    "name": "ipython",
    "version": 3
   },
   "file_extension": ".py",
   "mimetype": "text/x-python",
   "name": "python",
   "nbconvert_exporter": "python",
   "pygments_lexer": "ipython3",
   "version": "3.9.6"
  }
 },
 "nbformat": 4,
 "nbformat_minor": 4
}
